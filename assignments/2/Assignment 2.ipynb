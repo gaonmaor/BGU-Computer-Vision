{
 "cells": [
  {
   "cell_type": "markdown",
   "metadata": {},
   "source": [
    "### Maor Gaon 301308821, Eyal Gutflaish 066745878"
   ]
  },
  {
   "cell_type": "code",
   "execution_count": 24,
   "metadata": {
    "collapsed": false
   },
   "outputs": [
    {
     "data": {
      "application/javascript": [
       "Jupyter.notebook.config.update(\n",
       "    {\"load_extensions\":{\"calico-spell-check\":true,\n",
       "                        \"calico-document-tools\":true,\n",
       "                        \"calico-cell-tools\":true}})"
      ],
      "text/plain": [
       "<IPython.core.display.Javascript object>"
      ]
     },
     "metadata": {},
     "output_type": "display_data"
    }
   ],
   "source": [
    "%%javascript\n",
    "Jupyter.notebook.config.update(\n",
    "    {\"load_extensions\":{\"calico-spell-check\":true,\n",
    "                        \"calico-document-tools\":true,\n",
    "                        \"calico-cell-tools\":true}})"
   ]
  },
  {
   "cell_type": "code",
   "execution_count": 25,
   "metadata": {
    "collapsed": false
   },
   "outputs": [],
   "source": [
    "%matplotlib inline\n",
    "from __future__ import print_function\n",
    "from __future__ import division\n",
    "from __builtin__ import range\n",
    "from utils import *\n",
    "from utils.utils import y2row\n",
    "from utils.py27lru import lru_cache\n",
    "from itertools import product"
   ]
  },
  {
   "cell_type": "code",
   "execution_count": 26,
   "metadata": {
    "collapsed": false
   },
   "outputs": [],
   "source": [
    "def sum_neighbors(I):\n",
    "    return (I[:, 1:] * I[:, :-1]).sum() + (I[1:, :] * I[:-1, :]).sum()\n",
    "\n",
    "\n",
    "def all_perm(isize):\n",
    "    for per in (y2row(i, isize) for i in range(2**isize)):\n",
    "        yield per\n",
    "\n",
    "\n",
    "@lru_cache()\n",
    "def ising_Z(ishape, Temp=1):\n",
    "    Z = sum(np.exp((1 / Temp) * sum_neighbors(X.reshape(ishape))) \n",
    "            for X in all_perm(ishape[0] * ishape[1]))\n",
    "    return Z\n",
    "\n",
    "\n",
    "def ising_prob(X, Temp=1):\n",
    "    Z = ising_Z(X.shape, Temp)\n",
    "    return (1 / Z) * np.exp((1 / Temp) * sum_neighbors(X))"
   ]
  },
  {
   "cell_type": "markdown",
   "metadata": {},
   "source": [
    "# Computer Exercise 1"
   ]
  },
  {
   "cell_type": "code",
   "execution_count": 27,
   "metadata": {
    "collapsed": false
   },
   "outputs": [
    {
     "name": "stdout",
     "output_type": "stream",
     "text": [
      "Z: 1.2123E+02\n"
     ]
    }
   ],
   "source": [
    "print(\"Z: {:.4E}\".format(ising_Z((2,2))))"
   ]
  },
  {
   "cell_type": "markdown",
   "metadata": {},
   "source": [
    "# Computer Exercise 2"
   ]
  },
  {
   "cell_type": "code",
   "execution_count": 28,
   "metadata": {
    "collapsed": false
   },
   "outputs": [
    {
     "name": "stdout",
     "output_type": "stream",
     "text": [
      "Z: 3.6565E+05\n"
     ]
    }
   ],
   "source": [
    "print(\"Z: {:.4E}\".format(ising_Z((3,3))))"
   ]
  },
  {
   "cell_type": "markdown",
   "metadata": {},
   "source": [
    "# Computer Exercise 3"
   ]
  },
  {
   "cell_type": "code",
   "execution_count": 33,
   "metadata": {
    "collapsed": false
   },
   "outputs": [],
   "source": [
    "def ising_g(Xs, Temp=1):\n",
    "    return np.exp((1 / Temp) * (Xs[1:] * Xs[:-1]).sum())\n",
    "\n",
    "\n",
    "def ising_h(ys, yns, row_size, Temp=1):\n",
    "    Xs = y2row(ys, row_size)\n",
    "    Xns = y2row(yns, row_size)\n",
    "    return ising_g(Xs, Temp) * np.exp((1 / Temp) * (Xs * Xns).sum())\n",
    "\n",
    "\n",
    "@lru_cache(maxsize=524288)\n",
    "def ising_t(row_size, k, ynk=None, Temp=1):\n",
    "    isize = 2 ** row_size\n",
    "    if ynk is None:\n",
    "        return sum(ising_t(row_size, k - 1, y_last, Temp) *\n",
    "                   ising_g(y2row(y_last, row_size), Temp)\n",
    "                   for y_last in range(isize))\n",
    "    if k == 0:\n",
    "        return sum(ising_h(y1, ynk, row_size, Temp) \n",
    "                   for y1 in range(isize))\n",
    "    return sum(ising_t(row_size, k - 1, yk, Temp) * \n",
    "               ising_h(yk, ynk, row_size, Temp)\n",
    "               for yk in range(isize))\n",
    "\n",
    "\n",
    "def ising_sample_prob(ishape, Temp=1):\n",
    "    isize = 2 ** ishape[0]\n",
    "    Z = ising_t(ishape[0], ishape[0] - 1, Temp=Temp)\n",
    "    p = np.asarray([((ising_t(ishape[0], ishape[0] - 2, last_y, Temp) *\n",
    "                    ising_g(y2row(last_y, ishape[0]), Temp)) / Z)\n",
    "                    for last_y in range(isize)])\n",
    "    post_mat = np.zeros((ishape[0] - 1, 2**ishape[0], 2**ishape[1]))\n",
    "    for k, yk, ynk in product(range(ishape[0] - 2, 0, -1), \n",
    "                              range(isize), range(isize)):\n",
    "        post_mat[k, yk, ynk] = (ising_t(ishape[0], k - 1, yk, Temp) *\n",
    "                                ising_h(yk, ynk, ishape[0], Temp)) /\\\n",
    "                                ising_t(ishape[0], k, ynk, Temp)\n",
    "    for y1, y2 in product(range(isize), range(isize)):\n",
    "        post_mat[0, y1, y2] = ising_h(y1, y2, ishape[0], Temp) /\\\n",
    "                              ising_t(ishape[0], 0, y2, Temp)\n",
    "    return p, post_mat\n",
    "\n",
    "\n",
    "def ising_sample_image(p, post_mat, ishape, THRESH=125):\n",
    "    I = np.zeros(ishape)\n",
    "    y = np.random.choice(p.shape[0], size=1, p=p)[0]\n",
    "    I[ishape[0] - 1, np.where(y2row(y, ishape[0]) == 1)] = 1\n",
    "    for k in range(ishape[0] - 2, -1, -1):\n",
    "        tp = post_mat[k, :, y]\n",
    "        y = np.random.choice(p.shape[0], size=1, p=tp)[0]\n",
    "        I[k, np.where(y2row(y, ishape[0]) == 1)] = 1\n",
    "    return I"
   ]
  },
  {
   "cell_type": "code",
   "execution_count": 34,
   "metadata": {
    "collapsed": false
   },
   "outputs": [
    {
     "data": {
      "image/png": "[encoded data removed]",
      "text/plain": [
       "<matplotlib.figure.Figure at 0xa19fe48>"
      ]
     },
     "metadata": {},
     "output_type": "display_data"
    }
   ],
   "source": [
    "FIGS=10\n",
    "plt.figure(30, figsize=(15, 5))\n",
    "plt.set_cmap('gray')\n",
    "temp_list = [1, 1.5, 2]\n",
    "ishape = (8, 8)\n",
    "for i, temp in enumerate(temp_list):\n",
    "    p, post_mat = ising_sample_prob(ishape, temp)\n",
    "    for j in range(FIGS):\n",
    "        sample_image = ising_sample_image(p, post_mat, ishape)\n",
    "        plt.subplot(len(temp_list), FIGS, (i*FIGS)+j+1)\n",
    "        plt.title(\"T:{} S:{}\".format(temp, j + 1))\n",
    "        plt.imshow(sample_image, interpolation='nearest')\n",
    "plt.tight_layout()"
   ]
  },
  {
   "cell_type": "markdown",
   "metadata": {},
   "source": [
    "# Computer Exercise 4"
   ]
  },
  {
   "cell_type": "code",
   "execution_count": 23,
   "metadata": {
    "collapsed": false
   },
   "outputs": [
    {
     "name": "stdout",
     "output_type": "stream",
     "text": [
      "Temp: 1 E_11_22: 0.953 E_11_88: 0.9064\n",
      "Temp: 1.5 E_11_22: 0.7758 E_11_88: 0.5554\n",
      "Temp: 2 E_11_22: 0.5144 E_11_88: 0.1322\n"
     ]
    }
   ],
   "source": [
    "temp_list = [1, 1.5, 2]\n",
    "ishape = (8, 8)\n",
    "for temp in temp_list:\n",
    "    p, post_mat = ising_sample_prob(ishape, temp)\n",
    "    E_11_22 = 0\n",
    "    E_11_88 = 0\n",
    "    for j in range(10000):\n",
    "        sample_image = ising_sample_image(p, post_mat, ishape)\n",
    "        sample_image[np.where(sample_image == 0)] = -1\n",
    "        E_11_22 += sample_image[0, 0] * sample_image[1, 1] \n",
    "        E_11_88 += sample_image[0, 0] * sample_image[-1, -1]\n",
    "    E_11_22 /= 10000\n",
    "    E_11_88 /= 10000\n",
    "    print(\"Temp: {} E_11_22: {} E_11_88: {}\".format(\n",
    "          temp, E_11_22, E_11_88))"
   ]
  },
  {
   "cell_type": "markdown",
   "metadata": {},
   "source": [
    "# Execise 1\n",
    "\n",
    "The 'hotter the temreture' (higher value) the more impact on spatial distance, hence for higher tempreture, pixels farther apart are less likely to obtain the same value."
   ]
  }
 ],
 "metadata": {
  "anaconda-cloud": {},
  "kernelspec": {
   "display_name": "Python [conda env:py27]",
   "language": "python",
   "name": "conda-env-py27-py"
  },
  "language_info": {
   "codemirror_mode": {
    "name": "ipython",
    "version": 2
   },
   "file_extension": ".py",
   "mimetype": "text/x-python",
   "name": "python",
   "nbconvert_exporter": "python",
   "pygments_lexer": "ipython2",
   "version": "2.7.12"
  }
 },
 "nbformat": 4,
 "nbformat_minor": 0
}
